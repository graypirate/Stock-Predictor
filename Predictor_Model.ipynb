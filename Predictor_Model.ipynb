{
  "nbformat": 4,
  "nbformat_minor": 0,
  "metadata": {
    "colab": {
      "provenance": [],
      "gpuType": "T4",
      "authorship_tag": "ABX9TyOlhcE0fHdJzlCK14ZLYD/X",
      "include_colab_link": true
    },
    "kernelspec": {
      "name": "python3",
      "display_name": "Python 3"
    },
    "language_info": {
      "name": "python"
    },
    "accelerator": "GPU"
  },
  "cells": [
    {
      "cell_type": "markdown",
      "metadata": {
        "id": "view-in-github",
        "colab_type": "text"
      },
      "source": [
        "<a href=\"https://colab.research.google.com/github/greypirate/Stock-Predictor/blob/main/Predictor_Model.ipynb\" target=\"_parent\"><img src=\"https://colab.research.google.com/assets/colab-badge.svg\" alt=\"Open In Colab\"/></a>"
      ]
    },
    {
      "cell_type": "code",
      "source": [
        "from google.colab import drive\n",
        "drive.mount('/content/drive')\n",
        "project_path = '/content/drive/MyDrive/Stock_Price_Predictor'\n",
        "%cd $project_path"
      ],
      "metadata": {
        "colab": {
          "base_uri": "https://localhost:8080/"
        },
        "id": "zFWXFgzfwUKd",
        "outputId": "bf4fcd5a-09a8-4aca-ccd9-baa673bca14c"
      },
      "execution_count": null,
      "outputs": [
        {
          "output_type": "stream",
          "name": "stdout",
          "text": [
            "Drive already mounted at /content/drive; to attempt to forcibly remount, call drive.mount(\"/content/drive\", force_remount=True).\n",
            "/content/drive/MyDrive/Stock_Price_Predictor\n"
          ]
        }
      ]
    },
    {
      "cell_type": "markdown",
      "source": [
        "#Imports"
      ],
      "metadata": {
        "id": "SzEq3_VpGHwQ"
      }
    },
    {
      "cell_type": "code",
      "execution_count": null,
      "metadata": {
        "id": "FNj9BynVEB9H"
      },
      "outputs": [],
      "source": [
        "# Imports\n",
        "import numpy as np\n",
        "import pandas as pd\n",
        "import pandas_datareader as pdr\n",
        "import matplotlib.pyplot as plt\n",
        "import tensorflow as tf\n",
        "import yfinance as yf\n",
        "import datetime as dt\n",
        "import random\n",
        "import os\n",
        "\n",
        "# Imports for model\n",
        "from tensorflow.keras.models import Sequential\n",
        "from tensorflow.keras.layers import Dense, Dropout, LSTM\n",
        "\n",
        "# Initialize Keras\n",
        "keras = tf.keras"
      ]
    },
    {
      "cell_type": "markdown",
      "source": [
        "#Loading and Processing Data"
      ],
      "metadata": {
        "id": "t3E5zKjIGR1w"
      }
    },
    {
      "cell_type": "code",
      "source": [
        "# Stock info\n",
        "ticker = 'AMZN'\n",
        "\n",
        "start = dt.datetime(2010,1,1)\n",
        "end = dt.datetime(2023,5,31)"
      ],
      "metadata": {
        "id": "9-kos5jvuWdU"
      },
      "execution_count": null,
      "outputs": []
    },
    {
      "cell_type": "code",
      "source": [
        "# Load stock data\n",
        "yf.pdr_override()\n",
        "data = pdr.data.get_data_yahoo(ticker,start,end)"
      ],
      "metadata": {
        "colab": {
          "base_uri": "https://localhost:8080/"
        },
        "id": "ApOPJ6UnzSn-",
        "outputId": "9b4aced3-1571-46ab-a7d0-53cdff9d9ad5"
      },
      "execution_count": null,
      "outputs": [
        {
          "output_type": "stream",
          "name": "stdout",
          "text": [
            "\r[*********************100%***********************]  1 of 1 completed\n"
          ]
        }
      ]
    },
    {
      "cell_type": "code",
      "source": [
        "# Pre-process data\n",
        "\n",
        "'''\n",
        "Adds column for open and close price difference\n",
        "@return Dataset with added 'Difference' column\n",
        "'''\n",
        "def create_remove_columns(data):\n",
        "  # Create change column for the difference between open and close price\n",
        "  data = pd.DataFrame.copy(data)\n",
        "  data['Difference'] = data['Open']-data['Close'].shift(1)\n",
        "  data['Difference'].fillna(0, inplace=True)\n",
        "  data.insert(0,'Difference', data.pop('Difference'))\n",
        "  return data"
      ],
      "metadata": {
        "id": "UDaXAHaY00ka"
      },
      "execution_count": null,
      "outputs": []
    },
    {
      "cell_type": "code",
      "source": [
        "'''\n",
        "Normalizes data\n",
        "@return Normalized dataset + scaler and decoder functions\n",
        "'''\n",
        "def normalize_data(data, scaler=None):\n",
        "  # Create copy of data\n",
        "  stock_data = pd.DataFrame.copy(data)\n",
        "\n",
        "  # Substract the open amount from all columns except first and last (\"Difference\" and \"Volume\")\n",
        "  stock_data.iloc[:, 1:-1] = stock_data.iloc[:,1:-1] - stock_data['Open'].values[:, np.newaxis]\n",
        "  stock_data.pop('Open')\n",
        "\n",
        "  # If scaler does not exist, create one\n",
        "  if scaler is None:\n",
        "    values = np.abs(stock_data.values)\n",
        "    max_value = np.max(values[:,:-1])\n",
        "    max_volume = np.max(values[:,-1])\n",
        "    \n",
        "    # Normalizes data\n",
        "    def scaler(d):\n",
        "      data = pd.DataFrame.copy(d)\n",
        "      print('max_value: ', max_value)\n",
        "      print('max_volume: ', max_volume)\n",
        "\n",
        "      # Value and volume can very greatly daily so dividng by the max in each column helps to normalize the data\n",
        "      data.iloc[:, :-1] = data.iloc[:,:-1].apply(lambda x: x/max_value)\n",
        "      data.iloc[:, -1] = data.iloc[:,-1].apply(lambda x: x/max_volume)\n",
        "      return data\n",
        "    \n",
        "    # Reverses normalization\n",
        "    def decoder(values):\n",
        "      decoded_values = values * max_value\n",
        "      return decoded_values\n",
        "  \n",
        "  else:\n",
        "    decoder = None\n",
        "  \n",
        "  # New normalized data\n",
        "  normalized_data = scaler(stock_data)\n",
        "  \n",
        "  return normalized_data, scaler, decoder"
      ],
      "metadata": {
        "id": "nyVOJTiH1mUY"
      },
      "execution_count": null,
      "outputs": []
    },
    {
      "cell_type": "code",
      "source": [
        "'''\n",
        "Prepares normalized data for training by splitting into two lists:\n",
        "- One containing the data to make predictions from (previous day's price)\n",
        "- One containing the correct labels (actual current price)\n",
        "\n",
        "@returns Numpy arrays containing training data and labels\n",
        "'''\n",
        "def create_training_data(normalized_data):\n",
        "  # Number of training days\n",
        "  num_prediction_days = 730\n",
        "  \n",
        "  x_data = []\n",
        "  y_data = []\n",
        "  print('normalized_data shape:')\n",
        "  print(normalized_data.shape)\n",
        "  \n",
        "  # Iterate through data\n",
        "  for i in range(num_prediction_days, len(normalized_data)):\n",
        "    x_data.append(normalized_data.iloc[i-num_prediction_days:i])\n",
        "    y_data.append(normalized_data.iloc[i-num_prediction_days+1:i+1,0:4])\n",
        "  \n",
        "  return np.array(x_data), np.array(y_data)"
      ],
      "metadata": {
        "id": "cxR1qPci8RWP"
      },
      "execution_count": null,
      "outputs": []
    },
    {
      "cell_type": "code",
      "source": [
        "# Pre-processing function\n",
        "def preprocess(data, scaler=None):\n",
        "  new_data = create_remove_columns(data)\n",
        "  norm_data, scaler, decoder = normalize_data(new_data, scaler=scaler)\n",
        "  x_data, y_data = create_training_data(norm_data)\n",
        "\n",
        "  return x_data, y_data, scaler, decoder"
      ],
      "metadata": {
        "id": "ckLtbj_w_9oK"
      },
      "execution_count": null,
      "outputs": []
    },
    {
      "cell_type": "markdown",
      "source": [
        "Applying preprocessing to data"
      ],
      "metadata": {
        "id": "XvGgsdwhGc-j"
      }
    },
    {
      "cell_type": "code",
      "source": [
        "x_data, y_data, scaler, decoder = preprocess(data)\n",
        "\n",
        "print(x_data.shape)\n",
        "print(y_data.shape)"
      ],
      "metadata": {
        "colab": {
          "base_uri": "https://localhost:8080/"
        },
        "id": "DHVUCYL_AqHX",
        "outputId": "9293d06f-1ad8-4acc-d3ec-8c76c06d5cad"
      },
      "execution_count": null,
      "outputs": [
        {
          "output_type": "stream",
          "name": "stdout",
          "text": [
            "max_value:  16.761001586914062\n",
            "max_volume:  848422000.0\n",
            "normalized_data shape:\n",
            "(3374, 6)\n",
            "(2644, 730, 6)\n",
            "(2644, 730, 4)\n"
          ]
        }
      ]
    },
    {
      "cell_type": "markdown",
      "source": [
        "#Model"
      ],
      "metadata": {
        "id": "6oYCgeOIGir4"
      }
    },
    {
      "cell_type": "code",
      "source": [
        "'''\n",
        "@return A sequential model with 3 LTSM layers and one dense layer\n",
        "'''\n",
        "def create_model():\n",
        "  model = Sequential()\n",
        "  model.add(LSTM(units=1024, return_sequences=True, input_shape=(None,x_data.shape[-1],)))\n",
        "  model.add(LSTM(units=1024, return_sequences=True))\n",
        "  model.add(Dropout(0.2))\n",
        "  model.add(LSTM(units=1024, return_sequences=True))\n",
        "  # 4 outputs: open price, max, min, close price\n",
        "  model.add(Dense(4))\n",
        "\n",
        "  return model"
      ],
      "metadata": {
        "id": "5kTkzaIUBAW3"
      },
      "execution_count": null,
      "outputs": []
    },
    {
      "cell_type": "markdown",
      "source": [
        "Create model"
      ],
      "metadata": {
        "id": "kWfGy_bhGk1J"
      }
    },
    {
      "cell_type": "code",
      "source": [
        "model = create_model()\n",
        "print(model.summary())"
      ],
      "metadata": {
        "colab": {
          "base_uri": "https://localhost:8080/"
        },
        "id": "KH_H4O83EPnu",
        "outputId": "6a88deab-2010-4a66-d1d8-3af2f9292e0f"
      },
      "execution_count": null,
      "outputs": [
        {
          "output_type": "stream",
          "name": "stdout",
          "text": [
            "Model: \"sequential_2\"\n",
            "_________________________________________________________________\n",
            " Layer (type)                Output Shape              Param #   \n",
            "=================================================================\n",
            " lstm_3 (LSTM)               (None, None, 1024)        4222976   \n",
            "                                                                 \n",
            " lstm_4 (LSTM)               (None, None, 1024)        8392704   \n",
            "                                                                 \n",
            " dropout_1 (Dropout)         (None, None, 1024)        0         \n",
            "                                                                 \n",
            " lstm_5 (LSTM)               (None, None, 1024)        8392704   \n",
            "                                                                 \n",
            " dense_1 (Dense)             (None, None, 4)           4100      \n",
            "                                                                 \n",
            "=================================================================\n",
            "Total params: 21,012,484\n",
            "Trainable params: 21,012,484\n",
            "Non-trainable params: 0\n",
            "_________________________________________________________________\n",
            "None\n"
          ]
        }
      ]
    },
    {
      "cell_type": "markdown",
      "source": [
        "Compile model"
      ],
      "metadata": {
        "id": "XaaljzuSGnxa"
      }
    },
    {
      "cell_type": "code",
      "source": [
        "model.compile(optimizer='adam',loss=tf.keras.losses.MeanSquaredError(),metrics=['accuracy'])"
      ],
      "metadata": {
        "id": "gvbXy7ZNBEkP"
      },
      "execution_count": null,
      "outputs": []
    },
    {
      "cell_type": "markdown",
      "source": [
        "#Training The Model"
      ],
      "metadata": {
        "id": "Ai_QauzWGp5I"
      }
    },
    {
      "cell_type": "code",
      "source": [
        "print(x_data.shape)\n",
        "print(y_data.shape)"
      ],
      "metadata": {
        "colab": {
          "base_uri": "https://localhost:8080/"
        },
        "id": "quXx_PKNF9d6",
        "outputId": "c1268ce1-3838-40ce-f8d8-795e74fc1ec0"
      },
      "execution_count": null,
      "outputs": [
        {
          "output_type": "stream",
          "name": "stdout",
          "text": [
            "(2644, 730, 6)\n",
            "(2644, 730, 4)\n"
          ]
        }
      ]
    },
    {
      "cell_type": "code",
      "source": [
        "n = x_data.shape[0]\n",
        "random.seed(1)\n",
        "# Indexes for training data\n",
        "train_indexes = random.sample(range(n), int(n * 0.8))\n",
        "# Indexes for valuation data\n",
        "val_indexes = [x for x in range(n) if x not in train_indexes]\n",
        "print(len(train_indexes))\n",
        "print(len(val_indexes))"
      ],
      "metadata": {
        "colab": {
          "base_uri": "https://localhost:8080/"
        },
        "id": "jaLAr4ImK-Cg",
        "outputId": "28d68f56-7f2b-40b2-c348-387ed1cdf3a5"
      },
      "execution_count": null,
      "outputs": [
        {
          "output_type": "stream",
          "name": "stdout",
          "text": [
            "2115\n",
            "529\n"
          ]
        }
      ]
    },
    {
      "cell_type": "code",
      "source": [
        "# Training data\n",
        "x_train = x_data[train_indexes,:]\n",
        "y_train = y_data[train_indexes,:]\n",
        "\n",
        "# Valuation data\n",
        "x_val = x_data[val_indexes,:]\n",
        "y_val = y_data[val_indexes,:]\n",
        "\n",
        "print(x_train.shape)\n",
        "print(y_train.shape)\n",
        "print(x_val.shape)\n",
        "print(y_val.shape)"
      ],
      "metadata": {
        "colab": {
          "base_uri": "https://localhost:8080/"
        },
        "id": "2e4H1utqMToD",
        "outputId": "46ec0bd0-e7c8-4a47-c83f-d268e7db45bd"
      },
      "execution_count": null,
      "outputs": [
        {
          "output_type": "stream",
          "name": "stdout",
          "text": [
            "(2115, 730, 6)\n",
            "(2115, 730, 4)\n",
            "(529, 730, 6)\n",
            "(529, 730, 4)\n"
          ]
        }
      ]
    },
    {
      "cell_type": "code",
      "source": [
        "train_model = True\n",
        "\n",
        "if train_model:\n",
        "  # Directory where the checkpoints will be saved\n",
        "  checkpoint_dir = './training_checkpoints_'+dt.datetime.now().strftime(\"%Y%m%d%H%M%S\")\n",
        "  # Name of checkpoint files\n",
        "  checkpoint_path = os.path.join(checkpoint_dir, \"checkpoint\")\n",
        "  checkpoint_callback=tf.keras.callbacks.ModelCheckpoint(\n",
        "      filepath=checkpoint_path,\n",
        "      save_weights_only=True,\n",
        "      monitor=\"loss\",\n",
        "      mode=\"min\",\n",
        "      save_best_only=True)\n",
        "\n",
        "history = model.fit(x=x_train,y=y_train,\n",
        "                    epochs=10,\n",
        "                    batch_size=32,\n",
        "                    callbacks=[checkpoint_callback],\n",
        "                    validation_data=(x_val,y_val))"
      ],
      "metadata": {
        "colab": {
          "base_uri": "https://localhost:8080/"
        },
        "id": "AnNlEkhcIfxO",
        "outputId": "25b27d5f-f24a-4ee2-f4e6-3a4d5e1b95da"
      },
      "execution_count": null,
      "outputs": [
        {
          "output_type": "stream",
          "name": "stdout",
          "text": [
            "Epoch 1/10\n",
            "67/67 [==============================] - 102s 1s/step - loss: 0.0036 - accuracy: 0.7384 - val_loss: 0.0034 - val_accuracy: 0.7510\n",
            "Epoch 2/10\n",
            "67/67 [==============================] - 86s 1s/step - loss: 0.0033 - accuracy: 0.7668 - val_loss: 0.0034 - val_accuracy: 0.7672\n",
            "Epoch 3/10\n",
            "67/67 [==============================] - 86s 1s/step - loss: 0.0033 - accuracy: 0.7611 - val_loss: 0.0033 - val_accuracy: 0.7785\n",
            "Epoch 4/10\n",
            "67/67 [==============================] - 86s 1s/step - loss: 0.0033 - accuracy: 0.7615 - val_loss: 0.0033 - val_accuracy: 0.7236\n",
            "Epoch 5/10\n",
            "67/67 [==============================] - 86s 1s/step - loss: 0.0033 - accuracy: 0.7608 - val_loss: 0.0033 - val_accuracy: 0.7314\n",
            "Epoch 6/10\n",
            "67/67 [==============================] - 82s 1s/step - loss: 0.0033 - accuracy: 0.7559 - val_loss: 0.0034 - val_accuracy: 0.7598\n",
            "Epoch 7/10\n",
            "67/67 [==============================] - 85s 1s/step - loss: 0.0033 - accuracy: 0.7568 - val_loss: 0.0033 - val_accuracy: 0.7651\n",
            "Epoch 8/10\n",
            "67/67 [==============================] - 85s 1s/step - loss: 0.0033 - accuracy: 0.7559 - val_loss: 0.0032 - val_accuracy: 0.7580\n",
            "Epoch 9/10\n",
            "67/67 [==============================] - 86s 1s/step - loss: 0.0033 - accuracy: 0.7386 - val_loss: 0.0033 - val_accuracy: 0.7361\n",
            "Epoch 10/10\n",
            "67/67 [==============================] - 86s 1s/step - loss: 0.0032 - accuracy: 0.7464 - val_loss: 0.0033 - val_accuracy: 0.7876\n"
          ]
        }
      ]
    },
    {
      "cell_type": "markdown",
      "source": [
        "Save model"
      ],
      "metadata": {
        "id": "Wp56UChCZ_jB"
      }
    },
    {
      "cell_type": "code",
      "source": [
        "!mkdir -p saved_model\n",
        "model.save('saved_model/predictor_model')"
      ],
      "metadata": {
        "colab": {
          "base_uri": "https://localhost:8080/"
        },
        "id": "wMUSzDZGTg7z",
        "outputId": "9af13c78-985d-4df5-c534-91d531dbd5fd"
      },
      "execution_count": null,
      "outputs": [
        {
          "output_type": "stream",
          "name": "stderr",
          "text": [
            "WARNING:absl:Found untraced functions such as lstm_cell_3_layer_call_fn, lstm_cell_3_layer_call_and_return_conditional_losses, lstm_cell_4_layer_call_fn, lstm_cell_4_layer_call_and_return_conditional_losses, lstm_cell_5_layer_call_fn while saving (showing 5 of 6). These functions will not be directly callable after loading.\n"
          ]
        }
      ]
    },
    {
      "cell_type": "code",
      "source": [
        "train_loss = history.history['loss']\n",
        "val_loss = history.history['val_loss']\n",
        "\n",
        "fig = plt.figure(1)\n",
        "plt.plot(range(1, len(train_loss)+1), train_loss, label='Training')\n",
        "plt.plot(range(1, len(val_loss)+1), val_loss, label='Validation')\n",
        "plt.legend()\n",
        "plt.title('Loss')\n",
        "plt.show()"
      ],
      "metadata": {
        "colab": {
          "base_uri": "https://localhost:8080/",
          "height": 452
        },
        "id": "9d-En98PXNa1",
        "outputId": "54e1a3de-e337-493f-ace0-8fec12a0d5b5"
      },
      "execution_count": null,
      "outputs": [
        {
          "output_type": "display_data",
          "data": {
            "text/plain": [
              "<Figure size 640x480 with 1 Axes>"
            ],
            "image/png": "[encoded data removed]"
          },
          "metadata": {}
        }
      ]
    },
    {
      "cell_type": "markdown",
      "source": [
        "#Testing The Model"
      ],
      "metadata": {
        "id": "Rta46qbbZ8HF"
      }
    },
    {
      "cell_type": "code",
      "source": [
        "weights_filepath = tf.train.latest_checkpoint(checkpoint_dir)\n",
        "model.load_weights(weights_filepath)"
      ],
      "metadata": {
        "colab": {
          "base_uri": "https://localhost:8080/"
        },
        "id": "eOLzEe4Zgmxu",
        "outputId": "2257ff36-3c55-4814-e1f0-34d8c1202f2a"
      },
      "execution_count": null,
      "outputs": [
        {
          "output_type": "execute_result",
          "data": {
            "text/plain": [
              "<tensorflow.python.checkpoint.checkpoint.CheckpointLoadStatus at 0x7f001ab539a0>"
            ]
          },
          "metadata": {},
          "execution_count": 119
        }
      ]
    },
    {
      "cell_type": "code",
      "source": [
        "ticker = 'AMZN'\n",
        "\n",
        "test_start = dt.datetime(2015,1,1)\n",
        "test_end = dt.datetime(2023,6,9)\n",
        "\n",
        "yf.pdr_override()\n",
        "test_data = pdr.data.get_data_yahoo(ticker,test_start,test_end)"
      ],
      "metadata": {
        "colab": {
          "base_uri": "https://localhost:8080/"
        },
        "id": "GPGsuHC1aKRP",
        "outputId": "58289315-172b-4f6f-c652-60e6779035a2"
      },
      "execution_count": null,
      "outputs": [
        {
          "output_type": "stream",
          "name": "stdout",
          "text": [
            "\r[*********************100%***********************]  1 of 1 completed\n"
          ]
        }
      ]
    },
    {
      "cell_type": "code",
      "source": [
        "test_x, test_y, scaler, decoder = preprocess(test_data)\n",
        "\n",
        "print(test_x.shape)\n",
        "print(test_y.shape)"
      ],
      "metadata": {
        "colab": {
          "base_uri": "https://localhost:8080/"
        },
        "id": "zNRDBVtpbj9n",
        "outputId": "2b0fa58c-4416-441a-a95c-eb2b9b9d71bd"
      },
      "execution_count": null,
      "outputs": [
        {
          "output_type": "stream",
          "name": "stdout",
          "text": [
            "max_value:  16.761001586914062\n",
            "max_volume:  477122000.0\n",
            "normalized_data shape:\n",
            "(2123, 6)\n",
            "(1393, 730, 6)\n",
            "(1393, 730, 4)\n"
          ]
        }
      ]
    },
    {
      "cell_type": "code",
      "source": [
        "predictions = model.predict(test_x)"
      ],
      "metadata": {
        "colab": {
          "base_uri": "https://localhost:8080/"
        },
        "id": "vu3tDl7_cIot",
        "outputId": "c6edf4f5-daa5-4286-e955-00c742d0ba7d"
      },
      "execution_count": null,
      "outputs": [
        {
          "output_type": "stream",
          "name": "stdout",
          "text": [
            "44/44 [==============================] - 17s 380ms/step\n"
          ]
        }
      ]
    },
    {
      "cell_type": "code",
      "source": [
        "num_correct = 0\n",
        "num_incorrect = 0\n",
        "no_action = 0\n",
        "\n",
        "for prediction, actual in zip(predictions[:],test_y[:]):\n",
        "  compare = prediction[-1][3]*actual[-1][3]\n",
        "  if compare > 0:\n",
        "    num_correct += 1\n",
        "  elif compare < 0:\n",
        "    num_incorrect += 1\n",
        "  else:\n",
        "    no_action += 1\n",
        "\n",
        "print(f\"Num correct: {num_correct}\")\n",
        "print(f\"Num incorrect: {num_incorrect}\")\n",
        "print(f\"No action: {no_action}\")\n",
        "print(f\"Accuracy = {(num_correct/len(predictions))*100}\")"
      ],
      "metadata": {
        "colab": {
          "base_uri": "https://localhost:8080/"
        },
        "id": "TewZ2CtIcXxO",
        "outputId": "87852eac-1f1b-4316-aabe-f5c166f64228"
      },
      "execution_count": null,
      "outputs": [
        {
          "output_type": "stream",
          "name": "stdout",
          "text": [
            "Num correct: 759\n",
            "Num incorrect: 633\n",
            "No action: 1\n",
            "Accuracy = 54.486719310839916\n"
          ]
        }
      ]
    }
  ]
}